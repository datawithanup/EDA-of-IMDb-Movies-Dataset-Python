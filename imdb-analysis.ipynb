{
 "cells": [
  {
   "cell_type": "code",
   "execution_count": 1,
   "id": "71a31602-3684-4f69-b005-a6c1918bc9e6",
   "metadata": {},
   "outputs": [],
   "source": [
    "import numpy as np\n",
    "import pandas as pd\n",
    "import matplotlib.pyplot as plt\n",
    "import seaborn as sns"
   ]
  },
  {
   "cell_type": "code",
   "execution_count": 2,
   "id": "a83e9062-dac4-4d11-879f-76c91cd6c281",
   "metadata": {},
   "outputs": [
    {
     "name": "stdout",
     "output_type": "stream",
     "text": [
      "<class 'pandas.core.frame.DataFrame'>\n",
      "RangeIndex: 1000 entries, 0 to 999\n",
      "Data columns (total 12 columns):\n",
      " #   Column              Non-Null Count  Dtype  \n",
      "---  ------              --------------  -----  \n",
      " 0   Rank                1000 non-null   int64  \n",
      " 1   Title               1000 non-null   object \n",
      " 2   Genre               1000 non-null   object \n",
      " 3   Description         1000 non-null   object \n",
      " 4   Director            1000 non-null   object \n",
      " 5   Actors              1000 non-null   object \n",
      " 6   Year                1000 non-null   int64  \n",
      " 7   Runtime (Minutes)   1000 non-null   int64  \n",
      " 8   Rating              1000 non-null   float64\n",
      " 9   Votes               1000 non-null   int64  \n",
      " 10  Revenue (Millions)  872 non-null    float64\n",
      " 11  Metascore           936 non-null    float64\n",
      "dtypes: float64(3), int64(4), object(5)\n",
      "memory usage: 93.9+ KB\n"
     ]
    }
   ],
   "source": [
    "df = pd.read_csv(\"IMDB-Movie-Data.csv\") # Importing the .csv file\n",
    "df.info() # Seeing information like column names, total entries, etc"
   ]
  },
  {
   "cell_type": "code",
   "execution_count": 3,
   "id": "bedb2170-32d5-4f2a-be2a-1e0a9074dd61",
   "metadata": {},
   "outputs": [
    {
     "data": {
      "text/html": [
       "<div>\n",
       "<style scoped>\n",
       "    .dataframe tbody tr th:only-of-type {\n",
       "        vertical-align: middle;\n",
       "    }\n",
       "\n",
       "    .dataframe tbody tr th {\n",
       "        vertical-align: top;\n",
       "    }\n",
       "\n",
       "    .dataframe thead th {\n",
       "        text-align: right;\n",
       "    }\n",
       "</style>\n",
       "<table border=\"1\" class=\"dataframe\">\n",
       "  <thead>\n",
       "    <tr style=\"text-align: right;\">\n",
       "      <th></th>\n",
       "      <th>Rank</th>\n",
       "      <th>Title</th>\n",
       "      <th>Genre</th>\n",
       "      <th>Description</th>\n",
       "      <th>Director</th>\n",
       "      <th>Actors</th>\n",
       "      <th>Year</th>\n",
       "      <th>Runtime (Minutes)</th>\n",
       "      <th>Rating</th>\n",
       "      <th>Votes</th>\n",
       "      <th>Revenue (Millions)</th>\n",
       "      <th>Metascore</th>\n",
       "    </tr>\n",
       "  </thead>\n",
       "  <tbody>\n",
       "    <tr>\n",
       "      <th>0</th>\n",
       "      <td>1</td>\n",
       "      <td>Guardians of the Galaxy</td>\n",
       "      <td>Action,Adventure,Sci-Fi</td>\n",
       "      <td>A group of intergalactic criminals are forced ...</td>\n",
       "      <td>James Gunn</td>\n",
       "      <td>Chris Pratt, Vin Diesel, Bradley Cooper, Zoe S...</td>\n",
       "      <td>2014</td>\n",
       "      <td>121</td>\n",
       "      <td>8.1</td>\n",
       "      <td>757074</td>\n",
       "      <td>333.13</td>\n",
       "      <td>76.0</td>\n",
       "    </tr>\n",
       "    <tr>\n",
       "      <th>1</th>\n",
       "      <td>2</td>\n",
       "      <td>Prometheus</td>\n",
       "      <td>Adventure,Mystery,Sci-Fi</td>\n",
       "      <td>Following clues to the origin of mankind, a te...</td>\n",
       "      <td>Ridley Scott</td>\n",
       "      <td>Noomi Rapace, Logan Marshall-Green, Michael Fa...</td>\n",
       "      <td>2012</td>\n",
       "      <td>124</td>\n",
       "      <td>7.0</td>\n",
       "      <td>485820</td>\n",
       "      <td>126.46</td>\n",
       "      <td>65.0</td>\n",
       "    </tr>\n",
       "    <tr>\n",
       "      <th>2</th>\n",
       "      <td>3</td>\n",
       "      <td>Split</td>\n",
       "      <td>Horror,Thriller</td>\n",
       "      <td>Three girls are kidnapped by a man with a diag...</td>\n",
       "      <td>M. Night Shyamalan</td>\n",
       "      <td>James McAvoy, Anya Taylor-Joy, Haley Lu Richar...</td>\n",
       "      <td>2016</td>\n",
       "      <td>117</td>\n",
       "      <td>7.3</td>\n",
       "      <td>157606</td>\n",
       "      <td>138.12</td>\n",
       "      <td>62.0</td>\n",
       "    </tr>\n",
       "    <tr>\n",
       "      <th>3</th>\n",
       "      <td>4</td>\n",
       "      <td>Sing</td>\n",
       "      <td>Animation,Comedy,Family</td>\n",
       "      <td>In a city of humanoid animals, a hustling thea...</td>\n",
       "      <td>Christophe Lourdelet</td>\n",
       "      <td>Matthew McConaughey,Reese Witherspoon, Seth Ma...</td>\n",
       "      <td>2016</td>\n",
       "      <td>108</td>\n",
       "      <td>7.2</td>\n",
       "      <td>60545</td>\n",
       "      <td>270.32</td>\n",
       "      <td>59.0</td>\n",
       "    </tr>\n",
       "    <tr>\n",
       "      <th>4</th>\n",
       "      <td>5</td>\n",
       "      <td>Suicide Squad</td>\n",
       "      <td>Action,Adventure,Fantasy</td>\n",
       "      <td>A secret government agency recruits some of th...</td>\n",
       "      <td>David Ayer</td>\n",
       "      <td>Will Smith, Jared Leto, Margot Robbie, Viola D...</td>\n",
       "      <td>2016</td>\n",
       "      <td>123</td>\n",
       "      <td>6.2</td>\n",
       "      <td>393727</td>\n",
       "      <td>325.02</td>\n",
       "      <td>40.0</td>\n",
       "    </tr>\n",
       "    <tr>\n",
       "      <th>5</th>\n",
       "      <td>6</td>\n",
       "      <td>The Great Wall</td>\n",
       "      <td>Action,Adventure,Fantasy</td>\n",
       "      <td>European mercenaries searching for black powde...</td>\n",
       "      <td>Yimou Zhang</td>\n",
       "      <td>Matt Damon, Tian Jing, Willem Dafoe, Andy Lau</td>\n",
       "      <td>2016</td>\n",
       "      <td>103</td>\n",
       "      <td>6.1</td>\n",
       "      <td>56036</td>\n",
       "      <td>45.13</td>\n",
       "      <td>42.0</td>\n",
       "    </tr>\n",
       "    <tr>\n",
       "      <th>6</th>\n",
       "      <td>7</td>\n",
       "      <td>La La Land</td>\n",
       "      <td>Comedy,Drama,Music</td>\n",
       "      <td>A jazz pianist falls for an aspiring actress i...</td>\n",
       "      <td>Damien Chazelle</td>\n",
       "      <td>Ryan Gosling, Emma Stone, Rosemarie DeWitt, J....</td>\n",
       "      <td>2016</td>\n",
       "      <td>128</td>\n",
       "      <td>8.3</td>\n",
       "      <td>258682</td>\n",
       "      <td>151.06</td>\n",
       "      <td>93.0</td>\n",
       "    </tr>\n",
       "    <tr>\n",
       "      <th>7</th>\n",
       "      <td>8</td>\n",
       "      <td>Mindhorn</td>\n",
       "      <td>Comedy</td>\n",
       "      <td>A has-been actor best known for playing the ti...</td>\n",
       "      <td>Sean Foley</td>\n",
       "      <td>Essie Davis, Andrea Riseborough, Julian Barrat...</td>\n",
       "      <td>2016</td>\n",
       "      <td>89</td>\n",
       "      <td>6.4</td>\n",
       "      <td>2490</td>\n",
       "      <td>NaN</td>\n",
       "      <td>71.0</td>\n",
       "    </tr>\n",
       "    <tr>\n",
       "      <th>8</th>\n",
       "      <td>9</td>\n",
       "      <td>The Lost City of Z</td>\n",
       "      <td>Action,Adventure,Biography</td>\n",
       "      <td>A true-life drama, centering on British explor...</td>\n",
       "      <td>James Gray</td>\n",
       "      <td>Charlie Hunnam, Robert Pattinson, Sienna Mille...</td>\n",
       "      <td>2016</td>\n",
       "      <td>141</td>\n",
       "      <td>7.1</td>\n",
       "      <td>7188</td>\n",
       "      <td>8.01</td>\n",
       "      <td>78.0</td>\n",
       "    </tr>\n",
       "    <tr>\n",
       "      <th>9</th>\n",
       "      <td>10</td>\n",
       "      <td>Passengers</td>\n",
       "      <td>Adventure,Drama,Romance</td>\n",
       "      <td>A spacecraft traveling to a distant colony pla...</td>\n",
       "      <td>Morten Tyldum</td>\n",
       "      <td>Jennifer Lawrence, Chris Pratt, Michael Sheen,...</td>\n",
       "      <td>2016</td>\n",
       "      <td>116</td>\n",
       "      <td>7.0</td>\n",
       "      <td>192177</td>\n",
       "      <td>100.01</td>\n",
       "      <td>41.0</td>\n",
       "    </tr>\n",
       "  </tbody>\n",
       "</table>\n",
       "</div>"
      ],
      "text/plain": [
       "   Rank                    Title                       Genre  \\\n",
       "0     1  Guardians of the Galaxy     Action,Adventure,Sci-Fi   \n",
       "1     2               Prometheus    Adventure,Mystery,Sci-Fi   \n",
       "2     3                    Split             Horror,Thriller   \n",
       "3     4                     Sing     Animation,Comedy,Family   \n",
       "4     5            Suicide Squad    Action,Adventure,Fantasy   \n",
       "5     6           The Great Wall    Action,Adventure,Fantasy   \n",
       "6     7               La La Land          Comedy,Drama,Music   \n",
       "7     8                 Mindhorn                      Comedy   \n",
       "8     9       The Lost City of Z  Action,Adventure,Biography   \n",
       "9    10               Passengers     Adventure,Drama,Romance   \n",
       "\n",
       "                                         Description              Director  \\\n",
       "0  A group of intergalactic criminals are forced ...            James Gunn   \n",
       "1  Following clues to the origin of mankind, a te...          Ridley Scott   \n",
       "2  Three girls are kidnapped by a man with a diag...    M. Night Shyamalan   \n",
       "3  In a city of humanoid animals, a hustling thea...  Christophe Lourdelet   \n",
       "4  A secret government agency recruits some of th...            David Ayer   \n",
       "5  European mercenaries searching for black powde...           Yimou Zhang   \n",
       "6  A jazz pianist falls for an aspiring actress i...       Damien Chazelle   \n",
       "7  A has-been actor best known for playing the ti...            Sean Foley   \n",
       "8  A true-life drama, centering on British explor...            James Gray   \n",
       "9  A spacecraft traveling to a distant colony pla...         Morten Tyldum   \n",
       "\n",
       "                                              Actors  Year  Runtime (Minutes)  \\\n",
       "0  Chris Pratt, Vin Diesel, Bradley Cooper, Zoe S...  2014                121   \n",
       "1  Noomi Rapace, Logan Marshall-Green, Michael Fa...  2012                124   \n",
       "2  James McAvoy, Anya Taylor-Joy, Haley Lu Richar...  2016                117   \n",
       "3  Matthew McConaughey,Reese Witherspoon, Seth Ma...  2016                108   \n",
       "4  Will Smith, Jared Leto, Margot Robbie, Viola D...  2016                123   \n",
       "5      Matt Damon, Tian Jing, Willem Dafoe, Andy Lau  2016                103   \n",
       "6  Ryan Gosling, Emma Stone, Rosemarie DeWitt, J....  2016                128   \n",
       "7  Essie Davis, Andrea Riseborough, Julian Barrat...  2016                 89   \n",
       "8  Charlie Hunnam, Robert Pattinson, Sienna Mille...  2016                141   \n",
       "9  Jennifer Lawrence, Chris Pratt, Michael Sheen,...  2016                116   \n",
       "\n",
       "   Rating   Votes  Revenue (Millions)  Metascore  \n",
       "0     8.1  757074              333.13       76.0  \n",
       "1     7.0  485820              126.46       65.0  \n",
       "2     7.3  157606              138.12       62.0  \n",
       "3     7.2   60545              270.32       59.0  \n",
       "4     6.2  393727              325.02       40.0  \n",
       "5     6.1   56036               45.13       42.0  \n",
       "6     8.3  258682              151.06       93.0  \n",
       "7     6.4    2490                 NaN       71.0  \n",
       "8     7.1    7188                8.01       78.0  \n",
       "9     7.0  192177              100.01       41.0  "
      ]
     },
     "execution_count": 3,
     "metadata": {},
     "output_type": "execute_result"
    }
   ],
   "source": [
    "df.head(10) # Shows top 10 records"
   ]
  },
  {
   "cell_type": "code",
   "execution_count": 4,
   "id": "74402174-e0c2-488a-a9e2-d2359819f6c8",
   "metadata": {},
   "outputs": [
    {
     "data": {
      "text/html": [
       "<div>\n",
       "<style scoped>\n",
       "    .dataframe tbody tr th:only-of-type {\n",
       "        vertical-align: middle;\n",
       "    }\n",
       "\n",
       "    .dataframe tbody tr th {\n",
       "        vertical-align: top;\n",
       "    }\n",
       "\n",
       "    .dataframe thead th {\n",
       "        text-align: right;\n",
       "    }\n",
       "</style>\n",
       "<table border=\"1\" class=\"dataframe\">\n",
       "  <thead>\n",
       "    <tr style=\"text-align: right;\">\n",
       "      <th></th>\n",
       "      <th>Rank</th>\n",
       "      <th>Title</th>\n",
       "      <th>Genre</th>\n",
       "      <th>Description</th>\n",
       "      <th>Director</th>\n",
       "      <th>Actors</th>\n",
       "      <th>Year</th>\n",
       "      <th>Runtime (Minutes)</th>\n",
       "      <th>Rating</th>\n",
       "      <th>Votes</th>\n",
       "      <th>Revenue (Millions)</th>\n",
       "      <th>Metascore</th>\n",
       "    </tr>\n",
       "  </thead>\n",
       "  <tbody>\n",
       "    <tr>\n",
       "      <th>995</th>\n",
       "      <td>996</td>\n",
       "      <td>Secret in Their Eyes</td>\n",
       "      <td>Crime,Drama,Mystery</td>\n",
       "      <td>A tight-knit team of rising investigators, alo...</td>\n",
       "      <td>Billy Ray</td>\n",
       "      <td>Chiwetel Ejiofor, Nicole Kidman, Julia Roberts...</td>\n",
       "      <td>2015</td>\n",
       "      <td>111</td>\n",
       "      <td>6.2</td>\n",
       "      <td>27585</td>\n",
       "      <td>NaN</td>\n",
       "      <td>45.0</td>\n",
       "    </tr>\n",
       "    <tr>\n",
       "      <th>996</th>\n",
       "      <td>997</td>\n",
       "      <td>Hostel: Part II</td>\n",
       "      <td>Horror</td>\n",
       "      <td>Three American college students studying abroa...</td>\n",
       "      <td>Eli Roth</td>\n",
       "      <td>Lauren German, Heather Matarazzo, Bijou Philli...</td>\n",
       "      <td>2007</td>\n",
       "      <td>94</td>\n",
       "      <td>5.5</td>\n",
       "      <td>73152</td>\n",
       "      <td>17.54</td>\n",
       "      <td>46.0</td>\n",
       "    </tr>\n",
       "    <tr>\n",
       "      <th>997</th>\n",
       "      <td>998</td>\n",
       "      <td>Step Up 2: The Streets</td>\n",
       "      <td>Drama,Music,Romance</td>\n",
       "      <td>Romantic sparks occur between two dance studen...</td>\n",
       "      <td>Jon M. Chu</td>\n",
       "      <td>Robert Hoffman, Briana Evigan, Cassie Ventura,...</td>\n",
       "      <td>2008</td>\n",
       "      <td>98</td>\n",
       "      <td>6.2</td>\n",
       "      <td>70699</td>\n",
       "      <td>58.01</td>\n",
       "      <td>50.0</td>\n",
       "    </tr>\n",
       "    <tr>\n",
       "      <th>998</th>\n",
       "      <td>999</td>\n",
       "      <td>Search Party</td>\n",
       "      <td>Adventure,Comedy</td>\n",
       "      <td>A pair of friends embark on a mission to reuni...</td>\n",
       "      <td>Scot Armstrong</td>\n",
       "      <td>Adam Pally, T.J. Miller, Thomas Middleditch,Sh...</td>\n",
       "      <td>2014</td>\n",
       "      <td>93</td>\n",
       "      <td>5.6</td>\n",
       "      <td>4881</td>\n",
       "      <td>NaN</td>\n",
       "      <td>22.0</td>\n",
       "    </tr>\n",
       "    <tr>\n",
       "      <th>999</th>\n",
       "      <td>1000</td>\n",
       "      <td>Nine Lives</td>\n",
       "      <td>Comedy,Family,Fantasy</td>\n",
       "      <td>A stuffy businessman finds himself trapped ins...</td>\n",
       "      <td>Barry Sonnenfeld</td>\n",
       "      <td>Kevin Spacey, Jennifer Garner, Robbie Amell,Ch...</td>\n",
       "      <td>2016</td>\n",
       "      <td>87</td>\n",
       "      <td>5.3</td>\n",
       "      <td>12435</td>\n",
       "      <td>19.64</td>\n",
       "      <td>11.0</td>\n",
       "    </tr>\n",
       "  </tbody>\n",
       "</table>\n",
       "</div>"
      ],
      "text/plain": [
       "     Rank                   Title                  Genre  \\\n",
       "995   996    Secret in Their Eyes    Crime,Drama,Mystery   \n",
       "996   997         Hostel: Part II                 Horror   \n",
       "997   998  Step Up 2: The Streets    Drama,Music,Romance   \n",
       "998   999            Search Party       Adventure,Comedy   \n",
       "999  1000              Nine Lives  Comedy,Family,Fantasy   \n",
       "\n",
       "                                           Description          Director  \\\n",
       "995  A tight-knit team of rising investigators, alo...         Billy Ray   \n",
       "996  Three American college students studying abroa...          Eli Roth   \n",
       "997  Romantic sparks occur between two dance studen...        Jon M. Chu   \n",
       "998  A pair of friends embark on a mission to reuni...    Scot Armstrong   \n",
       "999  A stuffy businessman finds himself trapped ins...  Barry Sonnenfeld   \n",
       "\n",
       "                                                Actors  Year  \\\n",
       "995  Chiwetel Ejiofor, Nicole Kidman, Julia Roberts...  2015   \n",
       "996  Lauren German, Heather Matarazzo, Bijou Philli...  2007   \n",
       "997  Robert Hoffman, Briana Evigan, Cassie Ventura,...  2008   \n",
       "998  Adam Pally, T.J. Miller, Thomas Middleditch,Sh...  2014   \n",
       "999  Kevin Spacey, Jennifer Garner, Robbie Amell,Ch...  2016   \n",
       "\n",
       "     Runtime (Minutes)  Rating  Votes  Revenue (Millions)  Metascore  \n",
       "995                111     6.2  27585                 NaN       45.0  \n",
       "996                 94     5.5  73152               17.54       46.0  \n",
       "997                 98     6.2  70699               58.01       50.0  \n",
       "998                 93     5.6   4881                 NaN       22.0  \n",
       "999                 87     5.3  12435               19.64       11.0  "
      ]
     },
     "execution_count": 4,
     "metadata": {},
     "output_type": "execute_result"
    }
   ],
   "source": [
    "df.tail() # Shows last 5 records"
   ]
  },
  {
   "cell_type": "code",
   "execution_count": 5,
   "id": "65678ad3-d194-4944-913d-3c4879195852",
   "metadata": {},
   "outputs": [
    {
     "data": {
      "text/html": [
       "<div>\n",
       "<style scoped>\n",
       "    .dataframe tbody tr th:only-of-type {\n",
       "        vertical-align: middle;\n",
       "    }\n",
       "\n",
       "    .dataframe tbody tr th {\n",
       "        vertical-align: top;\n",
       "    }\n",
       "\n",
       "    .dataframe thead th {\n",
       "        text-align: right;\n",
       "    }\n",
       "</style>\n",
       "<table border=\"1\" class=\"dataframe\">\n",
       "  <thead>\n",
       "    <tr style=\"text-align: right;\">\n",
       "      <th></th>\n",
       "      <th>Rank</th>\n",
       "      <th>Title</th>\n",
       "      <th>Genre</th>\n",
       "      <th>Description</th>\n",
       "      <th>Director</th>\n",
       "      <th>Actors</th>\n",
       "      <th>Year</th>\n",
       "      <th>Runtime (Minutes)</th>\n",
       "      <th>Rating</th>\n",
       "      <th>Votes</th>\n",
       "      <th>Revenue (Millions)</th>\n",
       "      <th>Metascore</th>\n",
       "    </tr>\n",
       "  </thead>\n",
       "  <tbody>\n",
       "    <tr>\n",
       "      <th>0</th>\n",
       "      <td>False</td>\n",
       "      <td>False</td>\n",
       "      <td>False</td>\n",
       "      <td>False</td>\n",
       "      <td>False</td>\n",
       "      <td>False</td>\n",
       "      <td>False</td>\n",
       "      <td>False</td>\n",
       "      <td>False</td>\n",
       "      <td>False</td>\n",
       "      <td>False</td>\n",
       "      <td>False</td>\n",
       "    </tr>\n",
       "    <tr>\n",
       "      <th>1</th>\n",
       "      <td>False</td>\n",
       "      <td>False</td>\n",
       "      <td>False</td>\n",
       "      <td>False</td>\n",
       "      <td>False</td>\n",
       "      <td>False</td>\n",
       "      <td>False</td>\n",
       "      <td>False</td>\n",
       "      <td>False</td>\n",
       "      <td>False</td>\n",
       "      <td>False</td>\n",
       "      <td>False</td>\n",
       "    </tr>\n",
       "    <tr>\n",
       "      <th>2</th>\n",
       "      <td>False</td>\n",
       "      <td>False</td>\n",
       "      <td>False</td>\n",
       "      <td>False</td>\n",
       "      <td>False</td>\n",
       "      <td>False</td>\n",
       "      <td>False</td>\n",
       "      <td>False</td>\n",
       "      <td>False</td>\n",
       "      <td>False</td>\n",
       "      <td>False</td>\n",
       "      <td>False</td>\n",
       "    </tr>\n",
       "    <tr>\n",
       "      <th>3</th>\n",
       "      <td>False</td>\n",
       "      <td>False</td>\n",
       "      <td>False</td>\n",
       "      <td>False</td>\n",
       "      <td>False</td>\n",
       "      <td>False</td>\n",
       "      <td>False</td>\n",
       "      <td>False</td>\n",
       "      <td>False</td>\n",
       "      <td>False</td>\n",
       "      <td>False</td>\n",
       "      <td>False</td>\n",
       "    </tr>\n",
       "    <tr>\n",
       "      <th>4</th>\n",
       "      <td>False</td>\n",
       "      <td>False</td>\n",
       "      <td>False</td>\n",
       "      <td>False</td>\n",
       "      <td>False</td>\n",
       "      <td>False</td>\n",
       "      <td>False</td>\n",
       "      <td>False</td>\n",
       "      <td>False</td>\n",
       "      <td>False</td>\n",
       "      <td>False</td>\n",
       "      <td>False</td>\n",
       "    </tr>\n",
       "    <tr>\n",
       "      <th>...</th>\n",
       "      <td>...</td>\n",
       "      <td>...</td>\n",
       "      <td>...</td>\n",
       "      <td>...</td>\n",
       "      <td>...</td>\n",
       "      <td>...</td>\n",
       "      <td>...</td>\n",
       "      <td>...</td>\n",
       "      <td>...</td>\n",
       "      <td>...</td>\n",
       "      <td>...</td>\n",
       "      <td>...</td>\n",
       "    </tr>\n",
       "    <tr>\n",
       "      <th>995</th>\n",
       "      <td>False</td>\n",
       "      <td>False</td>\n",
       "      <td>False</td>\n",
       "      <td>False</td>\n",
       "      <td>False</td>\n",
       "      <td>False</td>\n",
       "      <td>False</td>\n",
       "      <td>False</td>\n",
       "      <td>False</td>\n",
       "      <td>False</td>\n",
       "      <td>True</td>\n",
       "      <td>False</td>\n",
       "    </tr>\n",
       "    <tr>\n",
       "      <th>996</th>\n",
       "      <td>False</td>\n",
       "      <td>False</td>\n",
       "      <td>False</td>\n",
       "      <td>False</td>\n",
       "      <td>False</td>\n",
       "      <td>False</td>\n",
       "      <td>False</td>\n",
       "      <td>False</td>\n",
       "      <td>False</td>\n",
       "      <td>False</td>\n",
       "      <td>False</td>\n",
       "      <td>False</td>\n",
       "    </tr>\n",
       "    <tr>\n",
       "      <th>997</th>\n",
       "      <td>False</td>\n",
       "      <td>False</td>\n",
       "      <td>False</td>\n",
       "      <td>False</td>\n",
       "      <td>False</td>\n",
       "      <td>False</td>\n",
       "      <td>False</td>\n",
       "      <td>False</td>\n",
       "      <td>False</td>\n",
       "      <td>False</td>\n",
       "      <td>False</td>\n",
       "      <td>False</td>\n",
       "    </tr>\n",
       "    <tr>\n",
       "      <th>998</th>\n",
       "      <td>False</td>\n",
       "      <td>False</td>\n",
       "      <td>False</td>\n",
       "      <td>False</td>\n",
       "      <td>False</td>\n",
       "      <td>False</td>\n",
       "      <td>False</td>\n",
       "      <td>False</td>\n",
       "      <td>False</td>\n",
       "      <td>False</td>\n",
       "      <td>True</td>\n",
       "      <td>False</td>\n",
       "    </tr>\n",
       "    <tr>\n",
       "      <th>999</th>\n",
       "      <td>False</td>\n",
       "      <td>False</td>\n",
       "      <td>False</td>\n",
       "      <td>False</td>\n",
       "      <td>False</td>\n",
       "      <td>False</td>\n",
       "      <td>False</td>\n",
       "      <td>False</td>\n",
       "      <td>False</td>\n",
       "      <td>False</td>\n",
       "      <td>False</td>\n",
       "      <td>False</td>\n",
       "    </tr>\n",
       "  </tbody>\n",
       "</table>\n",
       "<p>1000 rows × 12 columns</p>\n",
       "</div>"
      ],
      "text/plain": [
       "      Rank  Title  Genre  Description  Director  Actors   Year  \\\n",
       "0    False  False  False        False     False   False  False   \n",
       "1    False  False  False        False     False   False  False   \n",
       "2    False  False  False        False     False   False  False   \n",
       "3    False  False  False        False     False   False  False   \n",
       "4    False  False  False        False     False   False  False   \n",
       "..     ...    ...    ...          ...       ...     ...    ...   \n",
       "995  False  False  False        False     False   False  False   \n",
       "996  False  False  False        False     False   False  False   \n",
       "997  False  False  False        False     False   False  False   \n",
       "998  False  False  False        False     False   False  False   \n",
       "999  False  False  False        False     False   False  False   \n",
       "\n",
       "     Runtime (Minutes)  Rating  Votes  Revenue (Millions)  Metascore  \n",
       "0                False   False  False               False      False  \n",
       "1                False   False  False               False      False  \n",
       "2                False   False  False               False      False  \n",
       "3                False   False  False               False      False  \n",
       "4                False   False  False               False      False  \n",
       "..                 ...     ...    ...                 ...        ...  \n",
       "995              False   False  False                True      False  \n",
       "996              False   False  False               False      False  \n",
       "997              False   False  False               False      False  \n",
       "998              False   False  False                True      False  \n",
       "999              False   False  False               False      False  \n",
       "\n",
       "[1000 rows x 12 columns]"
      ]
     },
     "execution_count": 5,
     "metadata": {},
     "output_type": "execute_result"
    }
   ],
   "source": [
    "df.isnull() # Returns True for null values and False for not null"
   ]
  },
  {
   "cell_type": "code",
   "execution_count": 6,
   "id": "20635cfd-a37b-48d8-b6ce-1297255a76a2",
   "metadata": {},
   "outputs": [
    {
     "data": {
      "text/plain": [
       "Rank                    0\n",
       "Title                   0\n",
       "Genre                   0\n",
       "Description             0\n",
       "Director                0\n",
       "Actors                  0\n",
       "Year                    0\n",
       "Runtime (Minutes)       0\n",
       "Rating                  0\n",
       "Votes                   0\n",
       "Revenue (Millions)    128\n",
       "Metascore              64\n",
       "dtype: int64"
      ]
     },
     "execution_count": 6,
     "metadata": {},
     "output_type": "execute_result"
    }
   ],
   "source": [
    "df.isnull().sum()   # Shows null values per column"
   ]
  },
  {
   "cell_type": "code",
   "execution_count": 7,
   "id": "2b69f097-fbda-4287-af8d-f5a5793af706",
   "metadata": {},
   "outputs": [
    {
     "name": "stdout",
     "output_type": "stream",
     "text": [
      "True\n"
     ]
    }
   ],
   "source": [
    "print(df.isnull().values.any()) # Another way to confirm if there are null values or not in the Dataframe"
   ]
  },
  {
   "cell_type": "code",
   "execution_count": 8,
   "id": "217b8a1b-30c9-47b0-be03-3a9895151846",
   "metadata": {},
   "outputs": [
    {
     "data": {
      "text/plain": [
       "array([3.3313e+02, 1.2646e+02, 1.3812e+02, 2.7032e+02, 3.2502e+02,\n",
       "       4.5130e+01, 1.5106e+02,        nan, 8.0100e+00, 1.0001e+02,\n",
       "       2.3402e+02, 1.6927e+02, 5.3217e+02, 2.4875e+02, 2.8700e+00,\n",
       "       3.6831e+02, 6.7120e+01, 1.6216e+02, 5.1690e+01, 1.0050e+02,\n",
       "       7.2200e+00, 4.7700e+01, 1.5369e+02, 1.0314e+02, 6.5000e+00,\n",
       "       1.0000e-02, 1.1308e+02, 5.4650e+01, 6.0310e+01, 1.0640e+01,\n",
       "       1.5533e+02, 3.6302e+02, 2.6840e+01, 4.0808e+02, 1.8799e+02,\n",
       "       2.3260e+02, 9.3380e+01, 9.7660e+01, 2.7850e+01, 1.2790e+01,\n",
       "       4.2100e+00, 2.4106e+02, 3.4400e+00, 1.5880e+02, 9.3663e+02,\n",
       "       3.0350e+01, 3.2460e+01, 4.3000e+01, 5.3332e+02, 7.0800e+00,\n",
       "       8.9210e+01, 5.6230e+01, 3.1800e+00, 1.2507e+02, 3.3025e+02,\n",
       "       7.5310e+01, 1.6615e+02, 5.3080e+01, 1.2825e+02, 3.1860e+01,\n",
       "       1.5363e+02, 6.1280e+01, 4.0070e+01, 3.7300e+00, 3.0980e+01,\n",
       "       3.4126e+02, 3.0940e+02, 6.2328e+02, 1.2052e+02, 4.2303e+02,\n",
       "       1.2834e+02, 2.9257e+02, 5.8800e+00, 1.1687e+02, 1.6774e+02,\n",
       "       3.5003e+02, 6.5218e+02, 1.0380e+01, 7.6051e+02, 5.4120e+01,\n",
       "       8.6200e+01, 6.0960e+01, 4.7170e+01, 1.6971e+02, 4.3020e+01,\n",
       "       4.5899e+02, 3.6250e+01, 4.6800e+00, 1.5000e-01, 1.2900e+00,\n",
       "       1.3237e+02, 1.8700e+00, 1.8102e+02, 2.2843e+02, 4.5430e+01,\n",
       "       2.6860e+01, 1.6600e+00, 1.2659e+02, 2.5440e+01, 1.0160e+01,\n",
       "       5.6670e+01, 2.1059e+02, 3.8096e+02, 5.4730e+01, 1.3300e+00,\n",
       "       1.1150e+01, 7.1900e+01, 4.8629e+02, 8.7240e+01, 1.5083e+02,\n",
       "       4.6010e+01, 4.4813e+02, 3.6400e+02, 2.4543e+02, 3.8560e+01,\n",
       "       1.4370e+02, 1.8364e+02, 5.7640e+01, 1.2800e+02, 5.5120e+01,\n",
       "       1.3090e+01, 2.3867e+02, 2.1380e+01, 7.4270e+01, 1.4481e+02,\n",
       "       1.2797e+02, 2.5770e+02, 6.4000e+01, 7.0240e+01, 1.4680e+01,\n",
       "       1.6280e+02, 2.0100e+00, 1.4260e+01, 1.0750e+02, 1.2146e+02,\n",
       "       3.4260e+01, 5.5470e+01, 4.0800e+02, 2.0000e-01, 4.6880e+01,\n",
       "       4.1800e+01, 1.0179e+02, 8.4240e+01, 3.1490e+01, 2.3620e+01,\n",
       "       1.8000e+00, 2.3391e+02, 5.8400e+01, 1.6701e+02, 1.9145e+02,\n",
       "       6.5030e+01, 3.3310e+01, 5.2820e+01, 2.0007e+02, 3.2280e+01,\n",
       "       4.8020e+01, 2.5560e+01, 4.0074e+02, 9.3420e+01, 2.0854e+02,\n",
       "       1.1042e+02, 1.0246e+02, 1.8019e+02, 2.4090e+01, 2.5140e+01,\n",
       "       2.0115e+02, 3.4000e+00, 1.7200e+00, 3.1060e+01, 3.5050e+01,\n",
       "       1.1001e+02, 1.2530e+01, 4.4990e+01, 3.9100e+00, 1.3650e+01,\n",
       "       1.7664e+02, 1.8350e+01, 9.1120e+01, 1.2738e+02, 1.0019e+02,\n",
       "       8.1000e+00, 2.1480e+01, 3.1830e+02, 6.6000e+01, 1.4641e+02,\n",
       "       5.1000e-01, 2.1400e+00, 1.6908e+02, 1.5518e+02, 1.4120e+01,\n",
       "       3.1876e+02, 2.0636e+02, 3.1140e+01, 2.5975e+02, 3.3040e+01,\n",
       "       4.8040e+01, 9.2400e+00, 2.4405e+02, 1.4670e+01, 1.0252e+02,\n",
       "       1.5037e+02, 6.6000e-01, 8.7000e+00, 5.2000e+01, 2.4141e+02,\n",
       "       3.7620e+01, 0.0000e+00, 5.0860e+01, 1.9500e+02, 4.7950e+01,\n",
       "       1.7740e+01, 1.3960e+01, 2.4100e+00, 5.9070e+01, 2.6620e+01,\n",
       "       8.5710e+01, 3.5645e+02, 9.4000e+00, 8.9730e+01, 8.8760e+01,\n",
       "       1.4878e+02, 3.5290e+01, 5.6600e+00, 1.1082e+02, 1.3180e+01,\n",
       "       3.2000e-01, 1.1000e-01, 1.6103e+02, 2.0285e+02, 1.3739e+02,\n",
       "       2.7731e+02, 6.5170e+01, 1.7674e+02, 6.7240e+01, 2.2700e+00,\n",
       "       4.2340e+01, 1.0695e+02, 4.4000e+00, 7.9000e-01, 5.4000e-01,\n",
       "       3.0000e-02, 3.5540e+01, 2.7100e+01, 1.7988e+02, 3.0436e+02,\n",
       "       3.0300e+02, 1.3845e+02, 3.2300e+00, 8.9020e+01, 1.9162e+02,\n",
       "       3.3050e+01, 3.3700e+00, 4.0899e+02, 1.1770e+02, 2.0902e+02,\n",
       "       1.2710e+01, 7.2660e+01, 3.6380e+01, 1.4900e+01, 4.7380e+01,\n",
       "       1.7360e+01, 2.1300e+00, 6.5000e+01, 5.5290e+01, 2.9102e+02,\n",
       "       1.8710e+01, 6.4060e+01, 1.2473e+02, 1.5430e+01, 4.0220e+01,\n",
       "       1.0153e+02, 4.2040e+01, 4.8240e+01, 3.1580e+01, 8.0900e+00,\n",
       "       7.7040e+01, 6.2490e+01, 4.6810e+01, 2.5595e+02, 2.2000e+00,\n",
       "       9.2000e-01, 2.5511e+02, 2.9200e+02, 4.5600e+00, 3.4910e+01,\n",
       "       6.5070e+01, 2.0981e+02, 6.5270e+01, 5.6900e+00, 3.7550e+01,\n",
       "       9.6920e+01, 2.7360e+01, 5.7700e+00, 4.0000e-02, 3.2200e+00,\n",
       "       7.1000e+00, 3.5012e+02, 2.7300e+01, 1.8220e+02, 2.6900e+01,\n",
       "       1.3209e+02, 1.2487e+02, 4.6280e+01, 1.5502e+02, 6.6470e+01,\n",
       "       7.3100e+01, 7.6200e+01, 3.3653e+02, 2.0320e+01, 3.8350e+01,\n",
       "       1.5012e+02, 1.6200e+01, 5.6820e+01, 5.6440e+01, 2.0200e+00,\n",
       "       1.1080e+01, 1.3000e+02, 1.7180e+01, 3.5890e+01, 1.0147e+02,\n",
       "       1.5290e+01, 1.0047e+02, 5.0000e-02, 2.2876e+02, 7.5590e+01,\n",
       "       3.0000e+01, 1.4132e+02, 2.9230e+02, 2.6203e+02, 2.6380e+01,\n",
       "       3.8500e+00, 1.0241e+02, 1.4270e+01, 1.3457e+02, 2.7370e+01,\n",
       "       6.2560e+01, 1.0971e+02, 3.9290e+01, 3.3300e+00, 5.2420e+01,\n",
       "       7.2310e+01, 2.5776e+02, 4.3250e+01, 7.8750e+01, 1.0522e+02,\n",
       "       1.3255e+02, 7.3060e+01, 2.0570e+01, 1.7750e+01, 1.3367e+02,\n",
       "       4.2480e+01, 1.3452e+02, 1.0918e+02, 1.1371e+02, 3.3603e+02,\n",
       "       1.0000e-01, 2.5150e+02, 2.6760e+01, 2.3000e-01, 9.5720e+01,\n",
       "       2.0081e+02, 2.8167e+02, 5.8880e+01, 1.4500e+02, 1.8344e+02,\n",
       "       2.6849e+02, 2.1200e+01, 1.8200e+00, 5.0920e+01, 2.9498e+02,\n",
       "       4.0000e+00, 4.0250e+01, 1.0910e+01, 1.0637e+02, 6.2400e+01,\n",
       "       1.2749e+02, 1.3750e+01, 2.2714e+02, 7.9000e+01, 6.5200e+00,\n",
       "       2.8840e+01, 2.0235e+02, 2.0936e+02, 3.7430e+01, 1.9000e+01,\n",
       "       2.8750e+01, 2.3490e+02, 3.8320e+01, 7.5280e+01, 9.7000e+00,\n",
       "       4.6980e+01, 1.3400e+01, 5.2000e+00, 2.2249e+02, 3.5270e+01,\n",
       "       3.1206e+02, 1.0330e+01, 9.8900e+01, 5.5090e+01, 6.1000e-01,\n",
       "       1.6395e+02, 9.0350e+01, 1.0303e+02, 2.2880e+01, 9.2170e+01,\n",
       "       3.5790e+01, 4.0700e+00, 8.0020e+01, 1.8683e+02, 1.1831e+02,\n",
       "       1.0100e+00, 1.1565e+02, 1.1922e+02, 1.3013e+02, 1.5960e+01,\n",
       "       1.6611e+02, 3.0196e+02, 1.3602e+02, 1.5790e+01, 1.1280e+01,\n",
       "       6.2880e+01, 4.5090e+01, 1.2630e+01, 1.0751e+02, 4.5510e+01,\n",
       "       1.1882e+02, 7.1350e+01, 5.3850e+01, 2.0644e+02, 2.0000e-02,\n",
       "       9.4820e+01, 8.0030e+01, 2.8770e+01, 2.6100e+00, 2.5639e+02,\n",
       "       1.7902e+02, 1.2698e+02, 7.3340e+01, 2.9298e+02, 8.1690e+01,\n",
       "       2.5000e-01, 2.7000e+00, 4.7310e+01, 3.2390e+01, 8.8300e+00,\n",
       "       2.7408e+02, 9.0300e+00, 6.4510e+01, 6.6010e+01, 6.5010e+01,\n",
       "       3.1570e+01, 2.5836e+02, 2.9600e+00, 1.6970e+01, 2.3050e+01,\n",
       "       6.0000e-02, 9.3050e+01, 7.1900e+00, 2.0066e+02, 1.1317e+02,\n",
       "       7.4600e+00, 6.4030e+01, 1.2655e+02, 1.0800e+00, 4.3570e+01,\n",
       "       5.8680e+01, 1.5520e+01, 7.9240e+01, 5.3680e+01, 3.7100e+00,\n",
       "       4.4200e+00, 3.3419e+02, 1.1868e+02, 7.7000e+00, 5.6110e+01,\n",
       "       3.5390e+01, 4.3770e+01, 5.5940e+01, 2.4990e+01, 4.4000e-01,\n",
       "       1.0298e+02, 5.4240e+01, 4.8060e+01, 1.8941e+02, 1.5511e+02,\n",
       "       3.4960e+01, 3.5236e+02, 1.4349e+02, 4.2000e+00, 4.1010e+01,\n",
       "       8.3910e+01, 1.2771e+02, 7.5270e+01, 5.9890e+01, 4.8500e+00,\n",
       "       1.6319e+02, 2.7550e+01, 1.7205e+02, 4.2465e+02, 5.8000e-01,\n",
       "       1.3156e+02, 3.8540e+01, 4.1100e+01, 7.5610e+01, 1.1580e+02,\n",
       "       1.1560e+02, 8.3500e+01, 3.6800e+00, 2.3728e+02, 1.0100e+01,\n",
       "       1.0720e+01, 2.3400e+00, 1.5032e+02, 1.2130e+01, 2.4850e+01,\n",
       "       6.8600e+00, 5.0100e+00, 1.4834e+02, 4.6000e+01, 9.3950e+01,\n",
       "       1.4352e+02, 6.5300e+00, 1.1753e+02, 3.4900e+00, 7.5750e+01,\n",
       "       1.9450e+01, 1.4800e+00, 4.3980e+01, 3.9000e+00, 2.4480e+01,\n",
       "       2.0760e+01, 5.8230e+01, 1.7470e+01, 6.2320e+01, 4.0000e-01,\n",
       "       8.9250e+01, 2.3436e+02, 1.1373e+02, 3.2360e+01, 6.1100e+00,\n",
       "       2.2381e+02, 1.4873e+02, 5.4700e+01, 3.7400e+01, 3.1540e+01,\n",
       "       5.6720e+01, 1.6259e+02, 3.0800e+00, 8.6000e-01, 1.4809e+02,\n",
       "       7.7900e+00, 5.2880e+01, 5.3990e+01, 9.3900e+00, 9.7030e+01,\n",
       "       2.5360e+01, 1.9087e+02, 1.7110e+01, 8.7340e+01, 2.0300e+01,\n",
       "       1.5958e+02, 2.8000e-01, 1.2800e+01, 8.1260e+01, 4.9870e+01,\n",
       "       5.7370e+01, 1.2100e+00, 1.5700e+01, 1.1659e+02, 2.5590e+01,\n",
       "       2.5120e+01, 3.4020e+01, 3.3710e+02, 1.7400e+00, 1.4010e+01,\n",
       "       3.1170e+01, 6.9950e+01, 1.3880e+02, 8.0170e+01, 4.1498e+02,\n",
       "       2.4100e+01, 4.2350e+01, 1.4000e+00, 1.3600e+00, 2.3220e+01,\n",
       "       1.2498e+02, 3.3000e-01, 2.1863e+02, 9.0360e+01, 4.9550e+01,\n",
       "       2.3230e+01, 6.2450e+01, 1.0200e+00, 4.7110e+01, 5.7300e+00,\n",
       "       4.0208e+02, 5.0150e+01, 3.6770e+01, 1.9799e+02, 5.2530e+01,\n",
       "       1.0116e+02, 1.5006e+02, 3.7880e+01, 1.6200e+02, 2.0750e+01,\n",
       "       1.7659e+02, 7.9710e+01, 5.5800e+01, 3.9830e+01, 7.7210e+01,\n",
       "       4.4670e+01, 3.7370e+01, 2.1754e+02, 6.9000e-01, 7.3820e+01,\n",
       "       3.9380e+01, 5.6000e-01, 1.0218e+02, 6.3030e+01, 4.7100e+00,\n",
       "       2.0170e+01, 1.7103e+02, 3.5900e+00, 4.2620e+01, 3.6500e+00,\n",
       "       3.4900e+01, 6.8560e+01, 3.9000e+01, 2.7690e+01, 7.7600e+00,\n",
       "       5.4760e+01, 2.1270e+01, 9.3570e+01, 3.1660e+01, 3.1240e+01,\n",
       "       1.8700e+01, 1.0111e+02, 6.4420e+01, 1.0570e+01, 6.1660e+01,\n",
       "       3.1701e+02, 3.1990e+01, 3.4000e-01, 1.6837e+02, 2.1739e+02,\n",
       "       4.2270e+01, 1.0140e+01, 7.8000e-01, 3.8600e+00, 6.1090e+01,\n",
       "       1.2280e+01, 2.8480e+01, 1.0710e+02, 3.7700e+00, 1.6969e+02,\n",
       "       2.2795e+02, 8.7030e+01, 3.6920e+01, 3.1450e+01, 2.9000e-01,\n",
       "       1.8600e+01, 7.0630e+01, 5.4800e+00, 3.6805e+02, 2.5980e+01,\n",
       "       2.6000e+01, 1.4990e+01, 8.2160e+01, 5.0550e+01, 7.1980e+01,\n",
       "       3.3630e+01, 9.0760e+01, 6.8500e+00, 7.1590e+01, 4.1570e+01,\n",
       "       1.6680e+01, 2.1000e+01, 8.8500e+01, 1.8330e+01, 8.4260e+01,\n",
       "       7.6900e+00, 1.5017e+02, 3.0000e-01, 6.8800e+00, 2.5030e+01,\n",
       "       1.4170e+01, 7.0270e+01, 4.9000e+01, 1.1230e+01, 7.0220e+01,\n",
       "       5.9620e+01, 5.9800e+00, 1.3000e-01, 1.0002e+02, 5.4410e+01,\n",
       "       1.9800e+00, 3.0300e+00, 1.0437e+02, 8.1560e+01, 9.3750e+01,\n",
       "       1.7734e+02, 9.0000e-02, 9.5000e+01, 8.1160e+01, 1.6170e+01,\n",
       "       1.1330e+01, 2.3210e+01, 2.1540e+02, 5.4010e+01, 1.2532e+02,\n",
       "       3.6580e+01, 4.1780e+01, 3.5710e+01, 1.9060e+01, 6.6950e+01,\n",
       "       1.6000e-01, 6.4000e-01, 5.2690e+01, 1.3338e+02, 3.3600e+00,\n",
       "       9.3500e+00, 4.4800e+01, 1.3770e+01, 5.3360e+01, 2.8640e+01,\n",
       "       6.6360e+01, 3.3400e+01, 1.2251e+02, 8.3640e+01, 1.9100e+00,\n",
       "       8.3300e+01, 2.3010e+01, 1.4362e+02, 3.4300e+01, 1.3300e+01,\n",
       "       6.0440e+01, 2.5000e+01, 6.7520e+01, 8.5460e+01, 1.5264e+02,\n",
       "       4.2720e+01, 3.4530e+01, 2.2800e+00, 8.8920e+01, 5.8720e+01,\n",
       "       8.1000e-01, 3.4010e+01, 3.4500e+00, 1.7700e+02, 5.8610e+01,\n",
       "       1.4440e+01, 1.1714e+02, 7.7700e+00, 7.5640e+01, 8.0000e-02,\n",
       "       8.2230e+01, 7.0000e-02, 3.6840e+01, 8.5020e+01, 2.2100e+00,\n",
       "       7.0080e+01, 1.2000e-01, 3.6400e+00, 6.4150e+01, 2.7290e+01,\n",
       "       2.8128e+02, 4.7540e+01, 1.6380e+01, 5.1780e+01, 5.0460e+01,\n",
       "       2.2000e-01, 1.4821e+02, 1.8000e-01, 8.3810e+01, 3.0052e+02,\n",
       "       1.3990e+01, 4.2000e+01, 1.1663e+02, 6.0520e+01, 6.7400e+00,\n",
       "       8.2620e+01, 9.5330e+01, 3.6060e+01, 2.6050e+01, 4.0170e+01,\n",
       "       4.0980e+01, 3.0690e+01, 2.2490e+01, 2.3200e+00, 2.6810e+01,\n",
       "       8.9290e+01, 3.4330e+01, 8.0050e+01, 3.8510e+01, 3.8180e+01,\n",
       "       8.8100e+00, 5.9570e+01, 3.1900e+00, 6.1690e+01, 8.5910e+01,\n",
       "       2.4340e+01, 8.2390e+01, 4.2650e+01, 2.1560e+01, 4.2580e+01,\n",
       "       2.3390e+01, 5.2070e+01, 4.5800e+01, 1.2000e+00, 6.9200e+00,\n",
       "       6.0130e+01, 5.4720e+01, 1.7540e+01, 5.8010e+01, 1.9640e+01])"
      ]
     },
     "execution_count": 8,
     "metadata": {},
     "output_type": "execute_result"
    }
   ],
   "source": [
    "df['Revenue (Millions)'].unique() # Shows unique values in 'Revenue' column"
   ]
  },
  {
   "cell_type": "code",
   "execution_count": 9,
   "id": "9fb4f3f3-372a-4d03-aa35-89e4ad06e1e0",
   "metadata": {},
   "outputs": [],
   "source": [
    "df=df.dropna(subset=[\"Revenue (Millions)\"]) # Drop the missing values"
   ]
  },
  {
   "cell_type": "code",
   "execution_count": 10,
   "id": "1d6a4bb8-d771-4b89-aa22-756d226d4aea",
   "metadata": {},
   "outputs": [
    {
     "data": {
      "text/plain": [
       "Rank                   0\n",
       "Title                  0\n",
       "Genre                  0\n",
       "Description            0\n",
       "Director               0\n",
       "Actors                 0\n",
       "Year                   0\n",
       "Runtime (Minutes)      0\n",
       "Rating                 0\n",
       "Votes                  0\n",
       "Revenue (Millions)     0\n",
       "Metascore             34\n",
       "dtype: int64"
      ]
     },
     "execution_count": 10,
     "metadata": {},
     "output_type": "execute_result"
    }
   ],
   "source": [
    "df.isnull().sum()"
   ]
  },
  {
   "cell_type": "code",
   "execution_count": 11,
   "id": "155f43ce-0f98-4645-9bfd-47d731f9b9f9",
   "metadata": {},
   "outputs": [
    {
     "data": {
      "text/plain": [
       "array([ 76.,  65.,  62.,  59.,  40.,  42.,  93.,  78.,  41.,  66.,  74.,\n",
       "        81.,  70.,  61.,  71.,  58.,  69.,  49.,  96.,  56.,  32.,  nan,\n",
       "        60.,  36.,  39.,  67.,  52.,  75.,  72.,  54.,  99.,  57.,  45.,\n",
       "        64.,  68.,  23.,  18.,  82.,  79.,  51.,  44.,  48.,  46.,  90.,\n",
       "        50.,  53.,  83.,  77.,  85.,  55.,  80.,  88.,  87.,  91.,  63.,\n",
       "        86.,  84.,  29.,  47.,  73.,  33.,  43.,  25.,  98.,  35.,  31.,\n",
       "        94.,  38.,  34.,  26.,  92.,  95.,  30.,  27.,  19.,  28.,  89.,\n",
       "        22.,  37., 100.,  15.,  24.,  11.])"
      ]
     },
     "execution_count": 11,
     "metadata": {},
     "output_type": "execute_result"
    }
   ],
   "source": [
    "df['Metascore'].unique()"
   ]
  },
  {
   "cell_type": "code",
   "execution_count": 12,
   "id": "4858c1b4-a8b7-4038-b408-12c76880c1d6",
   "metadata": {},
   "outputs": [
    {
     "data": {
      "image/png": "[encoded data removed]",
      "text/plain": [
       "<Figure size 640x480 with 1 Axes>"
      ]
     },
     "metadata": {},
     "output_type": "display_data"
    }
   ],
   "source": [
    "sns.histplot(df['Metascore'], kde=True)\n",
    "plt.xlabel(\"Metascore\")\n",
    "plt.ylabel(\"Frequency\")\n",
    "plt.show()"
   ]
  },
  {
   "cell_type": "code",
   "execution_count": 13,
   "id": "482d566e-0bce-40ca-8774-c8b33caf27ba",
   "metadata": {},
   "outputs": [
    {
     "name": "stderr",
     "output_type": "stream",
     "text": [
      "C:\\Users\\Anup\\AppData\\Local\\Temp\\ipykernel_8668\\2544157999.py:1: FutureWarning: A value is trying to be set on a copy of a DataFrame or Series through chained assignment using an inplace method.\n",
      "The behavior will change in pandas 3.0. This inplace method will never work because the intermediate object on which we are setting values always behaves as a copy.\n",
      "\n",
      "For example, when doing 'df[col].method(value, inplace=True)', try using 'df.method({col: value}, inplace=True)' or df[col] = df[col].method(value) instead, to perform the operation inplace on the original object.\n",
      "\n",
      "\n",
      "  df['Metascore'].fillna(df['Metascore'].median(), inplace=True) # Filling missing values with the median value\n"
     ]
    }
   ],
   "source": [
    "df['Metascore'].fillna(df['Metascore'].median(), inplace=True) # Filling missing values with the median value"
   ]
  },
  {
   "cell_type": "code",
   "execution_count": 14,
   "id": "32898b78-6aec-4c23-8fc6-3c53b946e95f",
   "metadata": {},
   "outputs": [
    {
     "data": {
      "text/plain": [
       "Rank                  0\n",
       "Title                 0\n",
       "Genre                 0\n",
       "Description           0\n",
       "Director              0\n",
       "Actors                0\n",
       "Year                  0\n",
       "Runtime (Minutes)     0\n",
       "Rating                0\n",
       "Votes                 0\n",
       "Revenue (Millions)    0\n",
       "Metascore             0\n",
       "dtype: int64"
      ]
     },
     "execution_count": 14,
     "metadata": {},
     "output_type": "execute_result"
    }
   ],
   "source": [
    "df.isnull().sum()"
   ]
  },
  {
   "cell_type": "code",
   "execution_count": 15,
   "id": "ec4c59bf-7b98-4e5b-9776-e2ec313d5d0e",
   "metadata": {},
   "outputs": [
    {
     "data": {
      "text/plain": [
       "False"
      ]
     },
     "execution_count": 15,
     "metadata": {},
     "output_type": "execute_result"
    }
   ],
   "source": [
    "df.isnull().values.any()"
   ]
  },
  {
   "cell_type": "code",
   "execution_count": 16,
   "id": "a82c13f4-e58a-43c0-8931-9bd472d259a6",
   "metadata": {},
   "outputs": [
    {
     "data": {
      "text/plain": [
       "0"
      ]
     },
     "execution_count": 16,
     "metadata": {},
     "output_type": "execute_result"
    }
   ],
   "source": [
    "df.duplicated().sum() # Checking for duplicate values"
   ]
  },
  {
   "cell_type": "code",
   "execution_count": 17,
   "id": "289538e7-d814-4dce-9547-b0b942e5fe7f",
   "metadata": {},
   "outputs": [],
   "source": [
    "df.drop_duplicates(inplace = True) # If duplicates are there, will be droped"
   ]
  },
  {
   "cell_type": "code",
   "execution_count": 18,
   "id": "590e7c17-2138-4343-80ad-dd424eb9d6e8",
   "metadata": {},
   "outputs": [
    {
     "name": "stdout",
     "output_type": "stream",
     "text": [
      "<class 'pandas.core.frame.DataFrame'>\n",
      "Index: 872 entries, 0 to 999\n",
      "Data columns (total 12 columns):\n",
      " #   Column              Non-Null Count  Dtype  \n",
      "---  ------              --------------  -----  \n",
      " 0   Rank                872 non-null    int64  \n",
      " 1   Title               872 non-null    object \n",
      " 2   Genre               872 non-null    object \n",
      " 3   Description         872 non-null    object \n",
      " 4   Director            872 non-null    object \n",
      " 5   Actors              872 non-null    object \n",
      " 6   Year                872 non-null    int64  \n",
      " 7   Runtime (Minutes)   872 non-null    int64  \n",
      " 8   Rating              872 non-null    float64\n",
      " 9   Votes               872 non-null    int64  \n",
      " 10  Revenue (Millions)  872 non-null    float64\n",
      " 11  Metascore           872 non-null    float64\n",
      "dtypes: float64(3), int64(4), object(5)\n",
      "memory usage: 88.6+ KB\n"
     ]
    }
   ],
   "source": [
    "df.info()"
   ]
  },
  {
   "cell_type": "markdown",
   "id": "8e8c4e31-8589-43eb-acc9-3c23ce275eb6",
   "metadata": {},
   "source": [
    "#### Top 10 movies sorted on basis of Runtime"
   ]
  },
  {
   "cell_type": "code",
   "execution_count": 20,
   "id": "d4f1bdbd-0ebb-451b-8943-6ef5fc68663c",
   "metadata": {},
   "outputs": [
    {
     "data": {
      "text/html": [
       "<div>\n",
       "<style scoped>\n",
       "    .dataframe tbody tr th:only-of-type {\n",
       "        vertical-align: middle;\n",
       "    }\n",
       "\n",
       "    .dataframe tbody tr th {\n",
       "        vertical-align: top;\n",
       "    }\n",
       "\n",
       "    .dataframe thead th {\n",
       "        text-align: right;\n",
       "    }\n",
       "</style>\n",
       "<table border=\"1\" class=\"dataframe\">\n",
       "  <thead>\n",
       "    <tr style=\"text-align: right;\">\n",
       "      <th></th>\n",
       "      <th>Title</th>\n",
       "      <th>Runtime (Minutes)</th>\n",
       "    </tr>\n",
       "  </thead>\n",
       "  <tbody>\n",
       "    <tr>\n",
       "      <th>0</th>\n",
       "      <td>Grindhouse</td>\n",
       "      <td>191</td>\n",
       "    </tr>\n",
       "    <tr>\n",
       "      <th>1</th>\n",
       "      <td>The Hateful Eight</td>\n",
       "      <td>187</td>\n",
       "    </tr>\n",
       "    <tr>\n",
       "      <th>2</th>\n",
       "      <td>La vie d'Adèle</td>\n",
       "      <td>180</td>\n",
       "    </tr>\n",
       "    <tr>\n",
       "      <th>3</th>\n",
       "      <td>The Wolf of Wall Street</td>\n",
       "      <td>180</td>\n",
       "    </tr>\n",
       "    <tr>\n",
       "      <th>4</th>\n",
       "      <td>Cloud Atlas</td>\n",
       "      <td>172</td>\n",
       "    </tr>\n",
       "    <tr>\n",
       "      <th>5</th>\n",
       "      <td>3 Idiots</td>\n",
       "      <td>170</td>\n",
       "    </tr>\n",
       "    <tr>\n",
       "      <th>6</th>\n",
       "      <td>The Hobbit: An Unexpected Journey</td>\n",
       "      <td>169</td>\n",
       "    </tr>\n",
       "    <tr>\n",
       "      <th>7</th>\n",
       "      <td>Pirates of the Caribbean: At World's End</td>\n",
       "      <td>169</td>\n",
       "    </tr>\n",
       "    <tr>\n",
       "      <th>8</th>\n",
       "      <td>Interstellar</td>\n",
       "      <td>169</td>\n",
       "    </tr>\n",
       "    <tr>\n",
       "      <th>9</th>\n",
       "      <td>The Curious Case of Benjamin Button</td>\n",
       "      <td>166</td>\n",
       "    </tr>\n",
       "  </tbody>\n",
       "</table>\n",
       "</div>"
      ],
      "text/plain": [
       "                                      Title  Runtime (Minutes)\n",
       "0                                Grindhouse                191\n",
       "1                         The Hateful Eight                187\n",
       "2                            La vie d'Adèle                180\n",
       "3                   The Wolf of Wall Street                180\n",
       "4                               Cloud Atlas                172\n",
       "5                                  3 Idiots                170\n",
       "6         The Hobbit: An Unexpected Journey                169\n",
       "7  Pirates of the Caribbean: At World's End                169\n",
       "8                              Interstellar                169\n",
       "9       The Curious Case of Benjamin Button                166"
      ]
     },
     "execution_count": 20,
     "metadata": {},
     "output_type": "execute_result"
    }
   ],
   "source": [
    "df1 = df[['Title', 'Runtime (Minutes)']].sort_values(by='Runtime (Minutes)', ascending=False).head(10).reset_index(drop=True)\n",
    "df1"
   ]
  },
  {
   "cell_type": "code",
   "execution_count": 21,
   "id": "cef397f2-fcf0-4349-aab9-05a83e9b9f6d",
   "metadata": {},
   "outputs": [
    {
     "data": {
      "image/png": "[encoded data removed]",
      "text/plain": [
       "<Figure size 640x480 with 1 Axes>"
      ]
     },
     "metadata": {},
     "output_type": "display_data"
    }
   ],
   "source": [
    "sns.barplot(x='Runtime (Minutes)', y='Title', data=df1, color='skyblue')\n",
    "plt.title(\"Simple Barplot\")\n",
    "plt.grid(False)\n",
    "plt.show()"
   ]
  },
  {
   "cell_type": "code",
   "execution_count": 22,
   "id": "c091b192-746b-4d4e-ae73-d0156b0e56d3",
   "metadata": {},
   "outputs": [
    {
     "data": {
      "text/html": [
       "<div>\n",
       "<style scoped>\n",
       "    .dataframe tbody tr th:only-of-type {\n",
       "        vertical-align: middle;\n",
       "    }\n",
       "\n",
       "    .dataframe tbody tr th {\n",
       "        vertical-align: top;\n",
       "    }\n",
       "\n",
       "    .dataframe thead th {\n",
       "        text-align: right;\n",
       "    }\n",
       "</style>\n",
       "<table border=\"1\" class=\"dataframe\">\n",
       "  <thead>\n",
       "    <tr style=\"text-align: right;\">\n",
       "      <th></th>\n",
       "      <th>Year</th>\n",
       "      <th>No. of movies</th>\n",
       "    </tr>\n",
       "  </thead>\n",
       "  <tbody>\n",
       "    <tr>\n",
       "      <th>0</th>\n",
       "      <td>2016</td>\n",
       "      <td>205</td>\n",
       "    </tr>\n",
       "    <tr>\n",
       "      <th>1</th>\n",
       "      <td>2015</td>\n",
       "      <td>113</td>\n",
       "    </tr>\n",
       "    <tr>\n",
       "      <th>2</th>\n",
       "      <td>2014</td>\n",
       "      <td>94</td>\n",
       "    </tr>\n",
       "    <tr>\n",
       "      <th>3</th>\n",
       "      <td>2013</td>\n",
       "      <td>88</td>\n",
       "    </tr>\n",
       "    <tr>\n",
       "      <th>4</th>\n",
       "      <td>2012</td>\n",
       "      <td>64</td>\n",
       "    </tr>\n",
       "    <tr>\n",
       "      <th>5</th>\n",
       "      <td>2011</td>\n",
       "      <td>62</td>\n",
       "    </tr>\n",
       "    <tr>\n",
       "      <th>6</th>\n",
       "      <td>2010</td>\n",
       "      <td>57</td>\n",
       "    </tr>\n",
       "    <tr>\n",
       "      <th>7</th>\n",
       "      <td>2008</td>\n",
       "      <td>51</td>\n",
       "    </tr>\n",
       "    <tr>\n",
       "      <th>8</th>\n",
       "      <td>2007</td>\n",
       "      <td>49</td>\n",
       "    </tr>\n",
       "    <tr>\n",
       "      <th>9</th>\n",
       "      <td>2009</td>\n",
       "      <td>47</td>\n",
       "    </tr>\n",
       "    <tr>\n",
       "      <th>10</th>\n",
       "      <td>2006</td>\n",
       "      <td>42</td>\n",
       "    </tr>\n",
       "  </tbody>\n",
       "</table>\n",
       "</div>"
      ],
      "text/plain": [
       "    Year  No. of movies\n",
       "0   2016            205\n",
       "1   2015            113\n",
       "2   2014             94\n",
       "3   2013             88\n",
       "4   2012             64\n",
       "5   2011             62\n",
       "6   2010             57\n",
       "7   2008             51\n",
       "8   2007             49\n",
       "9   2009             47\n",
       "10  2006             42"
      ]
     },
     "execution_count": 22,
     "metadata": {},
     "output_type": "execute_result"
    }
   ],
   "source": [
    "df['Year'].value_counts().reset_index(name = 'No. of movies')"
   ]
  },
  {
   "cell_type": "markdown",
   "id": "57590591-d950-456f-afd7-587a92c91ebf",
   "metadata": {},
   "source": [
    "#### Number of movies per year"
   ]
  },
  {
   "cell_type": "code",
   "execution_count": 24,
   "id": "f72ea3e9-db3b-44e9-9112-3ae4a1cdb50a",
   "metadata": {},
   "outputs": [
    {
     "data": {
      "image/png": "[encoded data removed]",
      "text/plain": [
       "<Figure size 640x480 with 1 Axes>"
      ]
     },
     "metadata": {},
     "output_type": "display_data"
    }
   ],
   "source": [
    "sns.countplot( x ='Year',data = df)\n",
    "plt.title('No. of movies per year')\n",
    "# Add gridlines\n",
    "plt.grid(axis='y', linestyle='--', alpha=0.7)\n",
    "plt.show()"
   ]
  },
  {
   "cell_type": "markdown",
   "id": "116bc24b-1a09-41b9-b2b6-de2e5c3e44c1",
   "metadata": {},
   "source": [
    "#### Top 10 highly rated movies with title and director"
   ]
  },
  {
   "cell_type": "code",
   "execution_count": 26,
   "id": "43a01dad-5f41-482b-8f42-ef84bbb5edf9",
   "metadata": {},
   "outputs": [
    {
     "data": {
      "text/html": [
       "<div>\n",
       "<style scoped>\n",
       "    .dataframe tbody tr th:only-of-type {\n",
       "        vertical-align: middle;\n",
       "    }\n",
       "\n",
       "    .dataframe tbody tr th {\n",
       "        vertical-align: top;\n",
       "    }\n",
       "\n",
       "    .dataframe thead th {\n",
       "        text-align: right;\n",
       "    }\n",
       "</style>\n",
       "<table border=\"1\" class=\"dataframe\">\n",
       "  <thead>\n",
       "    <tr style=\"text-align: right;\">\n",
       "      <th></th>\n",
       "      <th>Title</th>\n",
       "      <th>Rating</th>\n",
       "      <th>Director</th>\n",
       "    </tr>\n",
       "  </thead>\n",
       "  <tbody>\n",
       "    <tr>\n",
       "      <th>0</th>\n",
       "      <td>The Dark Knight</td>\n",
       "      <td>9.0</td>\n",
       "      <td>Christopher Nolan</td>\n",
       "    </tr>\n",
       "    <tr>\n",
       "      <th>1</th>\n",
       "      <td>Dangal</td>\n",
       "      <td>8.8</td>\n",
       "      <td>Nitesh Tiwari</td>\n",
       "    </tr>\n",
       "    <tr>\n",
       "      <th>2</th>\n",
       "      <td>Inception</td>\n",
       "      <td>8.8</td>\n",
       "      <td>Christopher Nolan</td>\n",
       "    </tr>\n",
       "    <tr>\n",
       "      <th>3</th>\n",
       "      <td>Kimi no na wa</td>\n",
       "      <td>8.6</td>\n",
       "      <td>Makoto Shinkai</td>\n",
       "    </tr>\n",
       "    <tr>\n",
       "      <th>4</th>\n",
       "      <td>Interstellar</td>\n",
       "      <td>8.6</td>\n",
       "      <td>Christopher Nolan</td>\n",
       "    </tr>\n",
       "    <tr>\n",
       "      <th>5</th>\n",
       "      <td>The Intouchables</td>\n",
       "      <td>8.6</td>\n",
       "      <td>Olivier Nakache</td>\n",
       "    </tr>\n",
       "    <tr>\n",
       "      <th>6</th>\n",
       "      <td>The Departed</td>\n",
       "      <td>8.5</td>\n",
       "      <td>Martin Scorsese</td>\n",
       "    </tr>\n",
       "    <tr>\n",
       "      <th>7</th>\n",
       "      <td>The Lives of Others</td>\n",
       "      <td>8.5</td>\n",
       "      <td>Florian Henckel von Donnersmarck</td>\n",
       "    </tr>\n",
       "    <tr>\n",
       "      <th>8</th>\n",
       "      <td>Taare Zameen Par</td>\n",
       "      <td>8.5</td>\n",
       "      <td>Aamir Khan</td>\n",
       "    </tr>\n",
       "    <tr>\n",
       "      <th>9</th>\n",
       "      <td>The Prestige</td>\n",
       "      <td>8.5</td>\n",
       "      <td>Christopher Nolan</td>\n",
       "    </tr>\n",
       "  </tbody>\n",
       "</table>\n",
       "</div>"
      ],
      "text/plain": [
       "                 Title  Rating                          Director\n",
       "0      The Dark Knight     9.0                 Christopher Nolan\n",
       "1               Dangal     8.8                     Nitesh Tiwari\n",
       "2            Inception     8.8                 Christopher Nolan\n",
       "3        Kimi no na wa     8.6                    Makoto Shinkai\n",
       "4         Interstellar     8.6                 Christopher Nolan\n",
       "5     The Intouchables     8.6                   Olivier Nakache\n",
       "6         The Departed     8.5                   Martin Scorsese\n",
       "7  The Lives of Others     8.5  Florian Henckel von Donnersmarck\n",
       "8     Taare Zameen Par     8.5                        Aamir Khan\n",
       "9         The Prestige     8.5                 Christopher Nolan"
      ]
     },
     "execution_count": 26,
     "metadata": {},
     "output_type": "execute_result"
    }
   ],
   "source": [
    "df1 = df[['Title', 'Rating', 'Director']].sort_values(by='Rating', ascending=False).head(10).reset_index(drop=True)\n",
    "df1"
   ]
  },
  {
   "cell_type": "code",
   "execution_count": 27,
   "id": "5c728646-cfd5-4654-89d6-65e65f7df16c",
   "metadata": {},
   "outputs": [
    {
     "data": {
      "image/png": "[encoded data removed]",
      "text/plain": [
       "<Figure size 640x480 with 1 Axes>"
      ]
     },
     "metadata": {},
     "output_type": "display_data"
    }
   ],
   "source": [
    "sns.barplot(x='Rating', y='Title', data=df1, hue='Director')\n",
    "plt.title(\"Top 10 highly rated movies with title and director\")\n",
    "plt.legend(bbox_to_anchor = (1.05,1),loc=0)\n",
    "plt.show()"
   ]
  },
  {
   "cell_type": "markdown",
   "id": "146f36ec-dcd1-4f20-8574-6e277dec1d42",
   "metadata": {},
   "source": [
    "#### Does rating affect the revenue (use of scatter graph)"
   ]
  },
  {
   "cell_type": "code",
   "execution_count": 29,
   "id": "0595fdd6-f6d7-4655-aab5-843934b445d8",
   "metadata": {},
   "outputs": [
    {
     "data": {
      "image/png": "[encoded data removed]",
      "text/plain": [
       "<Figure size 640x480 with 1 Axes>"
      ]
     },
     "metadata": {},
     "output_type": "display_data"
    }
   ],
   "source": [
    "sns.scatterplot(x='Rating', y='Revenue (Millions)' ,data=df)\n",
    "plt.title(\"Does rating affect the revenue\")\n",
    "plt.show()"
   ]
  },
  {
   "cell_type": "markdown",
   "id": "94afb92e-d994-42de-80a9-35540cad10f3",
   "metadata": {},
   "source": [
    "#### Number of movies per Genre"
   ]
  },
  {
   "cell_type": "code",
   "execution_count": 31,
   "id": "940a592f-023f-4863-846d-07e5c69f2461",
   "metadata": {},
   "outputs": [
    {
     "data": {
      "text/html": [
       "<div>\n",
       "<style scoped>\n",
       "    .dataframe tbody tr th:only-of-type {\n",
       "        vertical-align: middle;\n",
       "    }\n",
       "\n",
       "    .dataframe tbody tr th {\n",
       "        vertical-align: top;\n",
       "    }\n",
       "\n",
       "    .dataframe thead th {\n",
       "        text-align: right;\n",
       "    }\n",
       "</style>\n",
       "<table border=\"1\" class=\"dataframe\">\n",
       "  <thead>\n",
       "    <tr style=\"text-align: right;\">\n",
       "      <th></th>\n",
       "      <th>Genre</th>\n",
       "      <th>No. of movies</th>\n",
       "    </tr>\n",
       "  </thead>\n",
       "  <tbody>\n",
       "    <tr>\n",
       "      <th>0</th>\n",
       "      <td>Action,Adventure,Sci-Fi</td>\n",
       "      <td>50</td>\n",
       "    </tr>\n",
       "    <tr>\n",
       "      <th>1</th>\n",
       "      <td>Comedy,Drama,Romance</td>\n",
       "      <td>33</td>\n",
       "    </tr>\n",
       "    <tr>\n",
       "      <th>2</th>\n",
       "      <td>Drama</td>\n",
       "      <td>31</td>\n",
       "    </tr>\n",
       "    <tr>\n",
       "      <th>3</th>\n",
       "      <td>Drama,Romance</td>\n",
       "      <td>30</td>\n",
       "    </tr>\n",
       "    <tr>\n",
       "      <th>4</th>\n",
       "      <td>Animation,Adventure,Comedy</td>\n",
       "      <td>26</td>\n",
       "    </tr>\n",
       "    <tr>\n",
       "      <th>...</th>\n",
       "      <td>...</td>\n",
       "      <td>...</td>\n",
       "    </tr>\n",
       "    <tr>\n",
       "      <th>190</th>\n",
       "      <td>Action,Comedy,Family</td>\n",
       "      <td>1</td>\n",
       "    </tr>\n",
       "    <tr>\n",
       "      <th>191</th>\n",
       "      <td>Action,Crime,Fantasy</td>\n",
       "      <td>1</td>\n",
       "    </tr>\n",
       "    <tr>\n",
       "      <th>192</th>\n",
       "      <td>Comedy,Mystery</td>\n",
       "      <td>1</td>\n",
       "    </tr>\n",
       "    <tr>\n",
       "      <th>193</th>\n",
       "      <td>Adventure,Comedy,Horror</td>\n",
       "      <td>1</td>\n",
       "    </tr>\n",
       "    <tr>\n",
       "      <th>194</th>\n",
       "      <td>Comedy,Family,Fantasy</td>\n",
       "      <td>1</td>\n",
       "    </tr>\n",
       "  </tbody>\n",
       "</table>\n",
       "<p>195 rows × 2 columns</p>\n",
       "</div>"
      ],
      "text/plain": [
       "                          Genre  No. of movies\n",
       "0       Action,Adventure,Sci-Fi             50\n",
       "1          Comedy,Drama,Romance             33\n",
       "2                         Drama             31\n",
       "3                 Drama,Romance             30\n",
       "4    Animation,Adventure,Comedy             26\n",
       "..                          ...            ...\n",
       "190        Action,Comedy,Family              1\n",
       "191        Action,Crime,Fantasy              1\n",
       "192              Comedy,Mystery              1\n",
       "193     Adventure,Comedy,Horror              1\n",
       "194       Comedy,Family,Fantasy              1\n",
       "\n",
       "[195 rows x 2 columns]"
      ]
     },
     "execution_count": 31,
     "metadata": {},
     "output_type": "execute_result"
    }
   ],
   "source": [
    "df['Genre'].value_counts().reset_index(name = 'No. of movies')"
   ]
  },
  {
   "cell_type": "markdown",
   "id": "1aa40166-944e-4ac2-8917-c0bb5bc5a423",
   "metadata": {},
   "source": [
    "#### Top 10 movies by Revenue"
   ]
  },
  {
   "cell_type": "code",
   "execution_count": 33,
   "id": "743a028b-4db8-4e98-9371-7a287570c33f",
   "metadata": {},
   "outputs": [
    {
     "data": {
      "text/html": [
       "<div>\n",
       "<style scoped>\n",
       "    .dataframe tbody tr th:only-of-type {\n",
       "        vertical-align: middle;\n",
       "    }\n",
       "\n",
       "    .dataframe tbody tr th {\n",
       "        vertical-align: top;\n",
       "    }\n",
       "\n",
       "    .dataframe thead th {\n",
       "        text-align: right;\n",
       "    }\n",
       "</style>\n",
       "<table border=\"1\" class=\"dataframe\">\n",
       "  <thead>\n",
       "    <tr style=\"text-align: right;\">\n",
       "      <th></th>\n",
       "      <th>Title</th>\n",
       "      <th>Revenue (Millions)</th>\n",
       "    </tr>\n",
       "  </thead>\n",
       "  <tbody>\n",
       "    <tr>\n",
       "      <th>0</th>\n",
       "      <td>Star Wars: Episode VII - The Force Awakens</td>\n",
       "      <td>936.63</td>\n",
       "    </tr>\n",
       "    <tr>\n",
       "      <th>1</th>\n",
       "      <td>Avatar</td>\n",
       "      <td>760.51</td>\n",
       "    </tr>\n",
       "    <tr>\n",
       "      <th>2</th>\n",
       "      <td>Jurassic World</td>\n",
       "      <td>652.18</td>\n",
       "    </tr>\n",
       "    <tr>\n",
       "      <th>3</th>\n",
       "      <td>The Avengers</td>\n",
       "      <td>623.28</td>\n",
       "    </tr>\n",
       "    <tr>\n",
       "      <th>4</th>\n",
       "      <td>The Dark Knight</td>\n",
       "      <td>533.32</td>\n",
       "    </tr>\n",
       "    <tr>\n",
       "      <th>5</th>\n",
       "      <td>Rogue One</td>\n",
       "      <td>532.17</td>\n",
       "    </tr>\n",
       "    <tr>\n",
       "      <th>6</th>\n",
       "      <td>Finding Dory</td>\n",
       "      <td>486.29</td>\n",
       "    </tr>\n",
       "    <tr>\n",
       "      <th>7</th>\n",
       "      <td>Avengers: Age of Ultron</td>\n",
       "      <td>458.99</td>\n",
       "    </tr>\n",
       "    <tr>\n",
       "      <th>8</th>\n",
       "      <td>The Dark Knight Rises</td>\n",
       "      <td>448.13</td>\n",
       "    </tr>\n",
       "    <tr>\n",
       "      <th>9</th>\n",
       "      <td>The Hunger Games: Catching Fire</td>\n",
       "      <td>424.65</td>\n",
       "    </tr>\n",
       "  </tbody>\n",
       "</table>\n",
       "</div>"
      ],
      "text/plain": [
       "                                        Title  Revenue (Millions)\n",
       "0  Star Wars: Episode VII - The Force Awakens              936.63\n",
       "1                                      Avatar              760.51\n",
       "2                              Jurassic World              652.18\n",
       "3                                The Avengers              623.28\n",
       "4                             The Dark Knight              533.32\n",
       "5                                   Rogue One              532.17\n",
       "6                                Finding Dory              486.29\n",
       "7                     Avengers: Age of Ultron              458.99\n",
       "8                       The Dark Knight Rises              448.13\n",
       "9             The Hunger Games: Catching Fire              424.65"
      ]
     },
     "execution_count": 33,
     "metadata": {},
     "output_type": "execute_result"
    }
   ],
   "source": [
    "df[['Title', 'Revenue (Millions)']].sort_values(by='Revenue (Millions)', ascending=False).head(10).reset_index(drop=True)"
   ]
  },
  {
   "cell_type": "markdown",
   "id": "d95d9ac9-69a2-4756-ad6e-def167114707",
   "metadata": {},
   "source": [
    "#### Most Popular Movie Title (Higest Revenue)\n",
    "##### Steps: 1️⃣ Find max revenue.2️⃣ Compare each row to that max (get True/False).3️⃣ Keep only rows where True.4️⃣ Get the Title column of those rows."
   ]
  },
  {
   "cell_type": "code",
   "execution_count": 36,
   "id": "35f67c1c-29d2-4b35-a1ed-0943058bf83c",
   "metadata": {},
   "outputs": [
    {
     "name": "stdout",
     "output_type": "stream",
     "text": [
      "Most Popular Movie (Higest Revenue):  \u001b[1mStar Wars: Episode VII - The Force Awakens\u001b[0m\n"
     ]
    }
   ],
   "source": [
    "movie_name = df[df['Revenue (Millions)'].max()==df['Revenue (Millions)']]['Title']\n",
    "# Extract the movie name (remove index)\n",
    "movie_name = movie_name.iloc[0]\n",
    "print(\"Most Popular Movie (Higest Revenue): \", \"\\033[1m\" + movie_name + \"\\033[0m\")"
   ]
  },
  {
   "cell_type": "markdown",
   "id": "d0fc56c7-dadf-4f23-80a0-0d09fb94c827",
   "metadata": {},
   "source": [
    "#### Yearwise Revenue"
   ]
  },
  {
   "cell_type": "code",
   "execution_count": 38,
   "id": "741aa8eb-2271-40ea-93d1-c367b4331e9d",
   "metadata": {},
   "outputs": [
    {
     "data": {
      "text/plain": [
       "Year\n",
       "2009    112.601277\n",
       "2012    107.973281\n",
       "2010    105.081579\n",
       "2008     99.082745\n",
       "2007     87.882245\n",
       "2011     87.612258\n",
       "2013     87.121818\n",
       "2006     86.296667\n",
       "2014     85.078723\n",
       "2015     78.355044\n",
       "2016     54.690976\n",
       "Name: Revenue (Millions), dtype: float64"
      ]
     },
     "execution_count": 38,
     "metadata": {},
     "output_type": "execute_result"
    }
   ],
   "source": [
    "df.groupby('Year')['Revenue (Millions)'].mean().sort_values(ascending=False)"
   ]
  },
  {
   "cell_type": "code",
   "execution_count": 40,
   "id": "89ec119b-70a2-405b-9f45-713c1cce8c57",
   "metadata": {},
   "outputs": [
    {
     "data": {
      "image/png": "[encoded data removed]",
      "text/plain": [
       "<Figure size 640x480 with 1 Axes>"
      ]
     },
     "metadata": {},
     "output_type": "display_data"
    }
   ],
   "source": [
    "sns.barplot(x='Year', y='Revenue (Millions)', data=df)\n",
    "plt.title(\"Yearwise Revenue\")\n",
    "plt.show()"
   ]
  },
  {
   "cell_type": "markdown",
   "id": "7603c8fb-446c-4995-89bd-1ace27ca1750",
   "metadata": {},
   "source": [
    "#### Calculate Highest Avg voting for which year?"
   ]
  },
  {
   "cell_type": "code",
   "execution_count": 42,
   "id": "0b1369e7-a678-4abc-9525-e634adf07993",
   "metadata": {},
   "outputs": [
    {
     "name": "stdout",
     "output_type": "stream",
     "text": [
      "Year\n",
      "2012    285226.09375\n",
      "Name: Votes, dtype: float64\n"
     ]
    }
   ],
   "source": [
    "high_voting_year = df.groupby('Year')['Votes'].mean().sort_values(ascending=False).head(1)\n",
    "print(high_voting_year)"
   ]
  },
  {
   "cell_type": "markdown",
   "id": "3ed5a563-0f6e-4b2d-bfd2-6a363ac0b57e",
   "metadata": {},
   "source": [
    "#### Top 5 directors based on Avg Rating"
   ]
  },
  {
   "cell_type": "code",
   "execution_count": 44,
   "id": "00d4b35d-cf3b-4c6d-9176-1690b1d5c12f",
   "metadata": {},
   "outputs": [
    {
     "data": {
      "text/plain": [
       "Director\n",
       "Nitesh Tiwari        8.80\n",
       "Christopher Nolan    8.68\n",
       "Olivier Nakache      8.60\n",
       "Makoto Shinkai       8.60\n",
       "Aamir Khan           8.50\n",
       "Name: Rating, dtype: float64"
      ]
     },
     "execution_count": 44,
     "metadata": {},
     "output_type": "execute_result"
    }
   ],
   "source": [
    "df.groupby('Director')['Rating'].mean().sort_values(ascending=False).head(5)"
   ]
  },
  {
   "cell_type": "markdown",
   "id": "aa85bd58-9a72-4e0c-9491-481ee8cc90b2",
   "metadata": {},
   "source": [
    "#### Use of function to categorise Rating"
   ]
  },
  {
   "cell_type": "code",
   "execution_count": 46,
   "id": "cb38fc4c-2194-4be5-8c74-13365d5d3b29",
   "metadata": {},
   "outputs": [],
   "source": [
    "def rating(r):\n",
    "    if r >= 7.0:\n",
    "        return 'Excellent'\n",
    "    elif r >= 6.0:\n",
    "        return 'Good'\n",
    "    else:\n",
    "        return 'Average'"
   ]
  },
  {
   "cell_type": "code",
   "execution_count": 48,
   "id": "bf2c8654-2ad5-44db-a3b5-3921cc9d3a48",
   "metadata": {},
   "outputs": [],
   "source": [
    "df['Rating Category'] = df['Rating'].apply(rating) # Added new column as 'Rating Category'"
   ]
  },
  {
   "cell_type": "code",
   "execution_count": 50,
   "id": "c18f6726-e5c5-41a5-946c-fdf03b7e693c",
   "metadata": {},
   "outputs": [
    {
     "name": "stdout",
     "output_type": "stream",
     "text": [
      "<class 'pandas.core.frame.DataFrame'>\n",
      "Index: 872 entries, 0 to 999\n",
      "Data columns (total 13 columns):\n",
      " #   Column              Non-Null Count  Dtype  \n",
      "---  ------              --------------  -----  \n",
      " 0   Rank                872 non-null    int64  \n",
      " 1   Title               872 non-null    object \n",
      " 2   Genre               872 non-null    object \n",
      " 3   Description         872 non-null    object \n",
      " 4   Director            872 non-null    object \n",
      " 5   Actors              872 non-null    object \n",
      " 6   Year                872 non-null    int64  \n",
      " 7   Runtime (Minutes)   872 non-null    int64  \n",
      " 8   Rating              872 non-null    float64\n",
      " 9   Votes               872 non-null    int64  \n",
      " 10  Revenue (Millions)  872 non-null    float64\n",
      " 11  Metascore           872 non-null    float64\n",
      " 12  Rating Category     872 non-null    object \n",
      "dtypes: float64(3), int64(4), object(6)\n",
      "memory usage: 95.4+ KB\n"
     ]
    }
   ],
   "source": [
    "df.info() # New column added as 'Rating Category'"
   ]
  },
  {
   "cell_type": "markdown",
   "id": "cba407c6-356b-4014-ac38-841a20e947b2",
   "metadata": {},
   "source": [
    "#### Download cleaned dataset"
   ]
  },
  {
   "cell_type": "code",
   "execution_count": 52,
   "id": "e64e87d3-334a-42a9-b154-9a132332b8a5",
   "metadata": {},
   "outputs": [],
   "source": [
    "df.to_csv('C:/Users/Anup/Desktop/imdb-project(Python)/cleaned_imdb.csv', index=False)"
   ]
  }
 ],
 "metadata": {
  "kernelspec": {
   "display_name": "Python [conda env:base] *",
   "language": "python",
   "name": "conda-base-py"
  },
  "language_info": {
   "codemirror_mode": {
    "name": "ipython",
    "version": 3
   },
   "file_extension": ".py",
   "mimetype": "text/x-python",
   "name": "python",
   "nbconvert_exporter": "python",
   "pygments_lexer": "ipython3",
   "version": "3.12.7"
  }
 },
 "nbformat": 4,
 "nbformat_minor": 5
}
